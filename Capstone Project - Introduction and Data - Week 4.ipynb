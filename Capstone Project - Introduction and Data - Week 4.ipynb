{
 "cells": [
  {
   "cell_type": "markdown",
   "metadata": {},
   "source": [
    "<h1> <center> Ideal Locations of Bitcoin ATMs in London </center> </h1>\n",
    "\n",
    "### Introduction ###\n",
    "\n",
    "Since its creation in early 2009, the **Bitcoin** (BTC) network has steadily grown over the years. At the time of writing this report, one BTC is worth approximately 9160 USD with a market cap of 117.8 billion USD. While some consider [BTC to be a bubble](https://www.theguardian.com/technology/2018/feb/02/bitcoin-biggest-bubble-in-history-says-economist-who-predicted-2008-crash), it has survived numerous crashes in price and broke its previous [all time highs](https://99bitcoins.com/bitcoin-obituaries/). It is widely believed in the BTC community that in the next bull run, the price of BTC will surpass its most recent all time high, which is approximately [20,000USD](https://www.coindesk.com/data-suggests-bitcoin-cryptocurrency-price-bull-market). According to the stock-to-flow cross asset model of Plan B, the price of BTC might hit as high as 288,000 USD within the [next few years](https://medium.com/@100trillionUSD/bitcoin-stock-to-flow-cross-asset-model-50d260feed12). \n",
    "Given the current circumstances in world economy that took a [hard hit from the pandemic](https://www.washingtonpost.com/business/2020/06/24/imf-global-economy-coronavirus/), the trustless, censorship resistant and decentralized nature of Bitcoin network with its capped supply at 21 million coins offers an alternative means to ordinary people who are willing to save their earnings from [currency debasement](https://news.bitcoin.com/us-eu-and-japan-could-trigger-cold-currency-war-by-debasing-fiat/). \n",
    "Currently there are numerous [exchanges](https://www.forbes.com/sites/sarahhansen/2018/06/20/forbes-guide-to-cryptocurrency-exchanges/#79eb6f912572) online and thousands of [Bitcoin ATMs around the world](https://coinatmradar.com/countries/) for people to convert their fiat currency into Bitcoin. It is reported that Paypal will soon be offering crypto exchange services in its platform directly to its [customers](https://www.forbes.com/sites/cryptoconfidential/2020/06/28/trumps-empty-bitcoin-threat-paypal-prepping-for-crypto-trading/#733f04dc12a0). As the public becomes more aware of the strong fundamentals of the Bitcoin protocol, it is only expected that more institutions will offer similar services, which pushes the prevalence of the use of Bitcoin as a transfer and store of value even further.\n",
    "\n",
    "### Business Problem ###\n",
    "Although the blockchain technology on which Bitcoin is built is relatively new, the developers are continuously working on smooth and convenient user experience. From the business perspective of Bitcoin service providers, it is considerable to prepare for the growth in the Bitcoin market that will drive its next highly likely bull run. Companies that are able to provide safe and convenient user experience are more likely to benefit from the next public interest in Bitcoin. One such group of companies in this market is Bitcoin ATM companies that provide access to people to purchase Bitcoin using fiat currency. **The aim of this report is to analyze the profiles of boroughs of London and the number of Bitcoin ATMs in each borough, and determine the potential ideal locations of additional Bitcoin ATMs in the city.** While there are numerous factors in choosing the ideal and precise location of any atm, in this business problem the choice of location is only limited to boroughs themselves.\n",
    "\n",
    "### Data ###\n",
    "The data that will be analysed in this problem are initially chosen to be the London borough profiles, current number of Bitcoin ATMs in each borough and areas where the common daily transactions are high, such as shopping centers and bars. Below is the summary of why and how each data is retrieved:\n",
    "- **London borough profile:** [This official website](https://data.london.gov.uk/dataset/london-borough-profiles) contains comprehensive statistical data of each borough from unemployment rates to political inclination. The data that is correlated with the Bitcoin ATM the most will be taken into account in the analysis. These are *proportion of the elderly*, *proportion of the out-of-work benefit claimants* and *number of active businesses*. \n",
    "<br>As the older generations tend to be more robust towards new technology, a negative correlation is expected between the proportion of the elderly and the number of Bitcoin atms in the boroughs. \n",
    "<br>The proportion of the out-of-work benefit claimants is another interesting data that seems to be correlated with Bitcoin ATMs. While a correlation does not imply causation, some consider Bitcoin as an investment against [debasing fiat currency](https://www.theguardian.com/business/2020/jun/18/bank-of-england-continues-money-printing-path-financial-crash-2009-qe). These out-of-work claimants can potentially be looking for ways to preserve their savings through Bitcoin. \n",
    "<br>Generally speaking, it would be natural to expect more atms in places with more active businesses. Similarly, the number of active businesses in a borough can be an indicator of an ideal Bitcoin ATM location. For this reason, this data will also be used to categorize boroughs into clusters.\n",
    "- **Bitcoin ATMs:** The number of existing Bitcoin ATMs is an indicator of potential areas to focus on and it helps us further categorize the boroughs. The number of Bitcoin ATMs for each borough will be found using Google Maps location data.\n",
    "- **Shopping centers and bars:** As the traditional ATMs are often located inside or around shopping centers, it is worth looking at whether the number of shopping centers in a borough can be linked to its Bitcoin ATMs. Also, the relatively higher interest of the younger generation in Bitcoin may be a factor in the proximity of Bitcoin ATMs to local bars in a given borough. The number of shopping centers and bars in a borough will be found using Foursquare location data. \n",
    "\n",
    "\n"
   ]
  },
  {
   "cell_type": "code",
   "execution_count": null,
   "metadata": {},
   "outputs": [],
   "source": []
  }
 ],
 "metadata": {
  "kernelspec": {
   "display_name": "Python 3",
   "language": "python",
   "name": "python3"
  },
  "language_info": {
   "codemirror_mode": {
    "name": "ipython",
    "version": 3
   },
   "file_extension": ".py",
   "mimetype": "text/x-python",
   "name": "python",
   "nbconvert_exporter": "python",
   "pygments_lexer": "ipython3",
   "version": "3.7.6"
  }
 },
 "nbformat": 4,
 "nbformat_minor": 4
}
